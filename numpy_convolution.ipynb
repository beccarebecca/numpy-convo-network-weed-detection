{
  "nbformat": 4,
  "nbformat_minor": 0,
  "metadata": {
    "colab": {
      "name": "numpy convolution",
      "provenance": [],
      "collapsed_sections": []
    },
    "kernelspec": {
      "name": "python3",
      "display_name": "Python 3"
    }
  },
  "cells": [
    {
      "cell_type": "code",
      "metadata": {
        "id": "JJljYH_GZqGC",
        "colab_type": "code",
        "colab": {}
      },
      "source": [
        "import numpy as np\n",
        "import random\n",
        "import cv2\n",
        "\n",
        "size = 225\n",
        "dataset = []\n",
        "paddingAdd =  np.pad(input, 4, pad_with, padder= 0)\n",
        "numberColumns = input.shape[1]\n",
        "firstNeurons = 150\n",
        "hiddenNeurons = 75\n",
        "outputNeurons = 4\n",
        "bias = 1\n",
        "@global relu1X \n",
        "@global relu2X\n",
        "@global sigX\n",
        "weights1 = np.random.randint(size = input, firstNeurons)\n",
        "weight2 = np.random.randint(size = firstNeurons, hiddenNeurons)\n",
        "weight3 = np.random.randint(size = hiddenNeurons, outputNeurons)\n",
        "poolingNum = 3\n",
        "convNum = 5\n",
        "prelabels = [\"soybeans\", \"broadleaf\", \"grass\", \"soil\"]\n",
        "labels = {\"soybean\": [1,0,0,0], \"broadleaf\": [0,1,0,0], \"grass\": [0,0,1,0],\"soil\": [0,0,0,1]}\n",
        "\n",
        "base1 = #\"/content/drive/My Drive/...\"\n",
        "base2 = #\"/content/drive/My Drive/...\"\n",
        "base3 = #\"/content/drive/My Drive/...\"\n",
        "base4 = #\"/content/drive/My Drive/...\"\n",
        "\n",
        "\n",
        "''' read soybean kaggle data set. Balance the data , and sort the data to correct labels, and shuffle data for randomness.\n",
        "Iterate data one by one for training\n",
        " Base Is For Each Class Until It Is Different By One Intergar'''\n",
        "\n",
        "for i in range(1103):\n",
        "  \n",
        "  #img1 = cv2.imread(\" {} {} .jpeg\". format(base1, i),0)\n",
        "  #img1 = cv2.resize(img1, (size,size), interpolation = cv2.INTER_AREA)\n",
        "  dataset.append([prelabels[0], img1])\n",
        "\n",
        "  #img2 =cv2.imread(\" {} {} .jpeg\". format(base2, i),0)\n",
        "  #img2 = cv2.resize(img2, (size,size), interpolation = cv2.INTER_AREA)\n",
        "  dataset.append([prelabels[1], img2])\n",
        "\n",
        "  #img3 = cv2.imread(\" {} {} .jpeg\". format(base3, i),0)\n",
        "  #img3 = cv2.resize(img3, (size,size), interpolation = cv2.INTER_AREA)\n",
        "  dataset.append([prelabels[2], img3])\n",
        "\n",
        "  #img4 = cv2.imread(\" {} {} .jpeg\". format(base4, i),0)\n",
        "  #img4 = cv2.resize(img4, (size,size), interpolation = cv2.INTER_AREA)\n",
        "  dataset.append([prelabels[3], img4])\n",
        "random.shuffle(dataset)\n",
        "random.shuffle(dataset)\n",
        "\n",
        "# finishing up the testing dataset, and traing dataset \n",
        "dataset = dataset[:-12]\n",
        "testingData = dataset[-12:]\n",
        "\n",
        "\n",
        "\n",
        "\n"
      ],
      "execution_count": 0,
      "outputs": []
    },
    {
      "cell_type": "markdown",
      "metadata": {
        "id": "KUTit_6OGBwT",
        "colab_type": "text"
      },
      "source": [
        "# Predict if a plant is a soybean crop, or just weeds from images with the help of my numpy convolutional network."
      ]
    },
    {
      "cell_type": "markdown",
      "metadata": {
        "id": "78OXIgBGF-01",
        "colab_type": "text"
      },
      "source": [
        ""
      ]
    },
    {
      "cell_type": "code",
      "metadata": {
        "id": "aGMlwy_t6BZy",
        "colab_type": "code",
        "colab": {}
      },
      "source": [
        "# a filter containing random number\n",
        "\n",
        "\n",
        "def ranwind(num):\n",
        "  num = np.random.randint(0,2, size = (num,num))\n",
        "  return num\n",
        "  \n"
      ],
      "execution_count": 0,
      "outputs": []
    },
    {
      "cell_type": "code",
      "metadata": {
        "id": "Az2OoLbt86BY",
        "colab_type": "code",
        "colab": {}
      },
      "source": [
        "# leakey relu function\n",
        "def Lrelu(x):\n",
        "   [return 1 for i in x if i >= 0 return .03]\n",
        "   "
      ],
      "execution_count": 0,
      "outputs": []
    },
    {
      "cell_type": "code",
      "metadata": {
        "id": "PL9QRFNeDXTV",
        "colab_type": "code",
        "colab": {}
      },
      "source": [
        "#derivitive of leaky leaky relu\n",
        "def derivRelu(x):\n",
        "  [return .03 for i in x if i <= 0 return 1]\n",
        "  \n",
        "     "
      ],
      "execution_count": 0,
      "outputs": []
    },
    {
      "cell_type": "code",
      "metadata": {
        "id": "HhA_OjCxEVod",
        "colab_type": "code",
        "colab": {}
      },
      "source": [
        "#sigmoid function\n",
        "\n",
        "def sigmoid(x):\n",
        "  [return 1/(1 + exp(-i)) for i in x]\n",
        "  \n"
      ],
      "execution_count": 0,
      "outputs": []
    },
    {
      "cell_type": "code",
      "metadata": {
        "id": "wForGF1jFz-z",
        "colab_type": "code",
        "colab": {}
      },
      "source": [
        "# dervitive of sigmoid... output sigmoid times 1 minus output sugmoid\n",
        "def sigDerivitive(o):\n",
        "  [return i * (1 -i) for i in o]\n",
        "  \n",
        "\n"
      ],
      "execution_count": 0,
      "outputs": []
    },
    {
      "cell_type": "markdown",
      "metadata": {
        "id": "u43qzwIqcLs1",
        "colab_type": "text"
      },
      "source": [
        ""
      ]
    },
    {
      "cell_type": "code",
      "metadata": {
        "id": "NH3g_rsMGoiE",
        "colab_type": "code",
        "colab": {}
      },
      "source": [
        "# softmax function\n",
        "def softmaxFunction(x):\n",
        "  items = [np.exp(i) for i in x]\n",
        "  sumEx = sum(items)\n",
        "  \n",
        "\n",
        "  softmax = [s/sumEx for s in items]\n",
        "  return softmax\n",
        " "
      ],
      "execution_count": 0,
      "outputs": []
    },
    {
      "cell_type": "code",
      "metadata": {
        "id": "sqcfUltFSW5r",
        "colab_type": "code",
        "colab": {}
      },
      "source": [
        "# log liklihood/ cross entropy loss function... the more wrong, the higher the number\n",
        "def crossEntropy(x,t,k):\n",
        "  # \"t\" = target , or image label, and \"x\" is predicted label\n",
        "  t = i[1] for i in labels if i[0] == t\n",
        "  for (x):\n",
        "    j =+ sum( -{tlog(x) + (1 - t)log(l-x)})\n",
        "    if dataset[-1] == dataset[k]:\n",
        "      return j\n",
        "  "
      ],
      "execution_count": 0,
      "outputs": []
    },
    {
      "cell_type": "code",
      "metadata": {
        "id": "qyucR-NCXqeU",
        "colab_type": "code",
        "colab": {}
      },
      "source": [
        "# combination of the gradient derivitive of the the log-loss and softmax together\n",
        "def softlogDrevitive(x):\n",
        "  [return (i - 1) for i in x]\n",
        "  \n",
        "\n"
      ],
      "execution_count": 0,
      "outputs": []
    },
    {
      "cell_type": "code",
      "metadata": {
        "id": "c1HeqcIMXqrp",
        "colab_type": "code",
        "colab": {}
      },
      "source": [
        "#convolutional layer taking the dot product between the ranwind\n",
        "#matrix and thr input 5 by 5 at a time. Looping through the rows (slide) and columns\n",
        "\n",
        "def convoLayer(input,filter):\n",
        "  filterList = []\n",
        "  filters = ranwind(convNum)if filter == None else filter\n",
        "  for i in input:\n",
        "    for j in numberColumns:\n",
        "      filterList += filterList.append(filters.dot(np.transpose(input[i:i+6,j:j+6])))\n",
        "  return filterList\n"
      ],
      "execution_count": 0,
      "outputs": []
    },
    {
      "cell_type": "code",
      "metadata": {
        "id": "JV_AXWv-XRJe",
        "colab_type": "code",
        "colab": {}
      },
      "source": [
        "def dropOut(n,input):\n",
        "  input = input[:n] + input[n+1:]\n",
        "  return input\n",
        "  "
      ],
      "execution_count": 0,
      "outputs": []
    },
    {
      "cell_type": "code",
      "metadata": {
        "id": "UJl09Dsm09EB",
        "colab_type": "code",
        "colab": {}
      },
      "source": [
        "# pooling layer computing the maximum of the output layer with the pooling window by 4 by 4 at a time\n",
        "\n",
        "def poolMax(input):\n",
        "   \n",
        "  for i in input:\n",
        "    for j in numberCoulumns:\n",
        "      pooling = [max(input[i:i+poolingNum,j:j+poolingNum])]\n",
        "      pooling.asarray\n",
        "  \n",
        "  return pooling\n",
        "  "
      ],
      "execution_count": 0,
      "outputs": []
    },
    {
      "cell_type": "code",
      "metadata": {
        "id": "F1ZfppQzDi5v",
        "colab_type": "code",
        "colab": {}
      },
      "source": [
        "# fully connected network matrix dot product, returning labels if network is no training\n",
        "def fullconnNet(element, input):\n",
        "  bunch = []\n",
        "  x = input\n",
        "  x = input.dot(weight1) + bias\n",
        "  hidden1 = Lrelu(x)\n",
        "  x = hidden1.dot(weight2) + bias\n",
        "  hidden2 = Lrelu(x)\n",
        "  x = hidden2.dot(weight3) + bias\n",
        "  x = softmaxfunction(x)\n",
        "  [return x if len(element) == 1 else return(x,element[0])]\n",
        "  \n",
        "  \n",
        "  \n",
        "  "
      ],
      "execution_count": 0,
      "outputs": []
    },
    {
      "cell_type": "code",
      "metadata": {
        "id": "xgejLoFZS1RQ",
        "colab_type": "code",
        "colab": {}
      },
      "source": [
        "#convolution layers\n",
        "def convoNetworkLayers(x,filter1 = None, filter2 = None, filter3 = None):\n",
        "  element = x\n",
        "  x= element[1]\n",
        "  x = return convoLayer(x,filter1) for a in range(16)\n",
        "  x = poolMax(x)\n",
        "  relu1X = Lrelu(x) \n",
        "  x = return convoLayer(relu1X, filter2) for b in range(32)\n",
        "  x = poolMax(x)\n",
        "  relu2X = Lrelu(x)\n",
        "  x =  return convoLayer(relu2X, filter3) for c in range(32)\n",
        "  x = dropOut(randrange(32),x)\n",
        "  x = poolMax(x)\n",
        "  x = np.flatten(x)\n",
        "  sigX = sigmoid(x)\n",
        "  fullconnNet(element, sigX)\n",
        "  \n",
        "  \n",
        "  "
      ],
      "execution_count": 0,
      "outputs": []
    },
    {
      "cell_type": "code",
      "metadata": {
        "id": "pekne7ddIOHs",
        "colab_type": "code",
        "colab": {}
      },
      "source": [
        "# cost and dervitive calulations to begin to update the weights with gradient decient -parial dervivtives in respect to x\n",
        "def updateweights(x,element,i):\n",
        "  x = x\n",
        "  #async/await waiting for it loops throgh all data before returning it\n",
        "  error = crossEntropy(x,element,i)\n",
        "  lr = .05\n",
        "  weights3 =+ lr * error * softlogDrevitive(x) * np.transpose(hidden2)\n",
        "  hiddenError2 = error * softlogDrevitive(x) * weights3 * derivRelu(hidden2)\n",
        "  weights2 =+ hiddenError2 * np.transpose(hidden1)\n",
        "  hiddenError1 = hiddenError2 * derivRelu(hidden1) * weights2\n",
        "  weights3 =+ hiddenError1 * np.transpose(input)\n",
        "  convOutputError = sigDerivitive(sigX) * hiddenError1\n",
        "  filter3 = filter3 += convOutputError * np.transpose(relu2X)\n",
        "  convHiddenError2 = convOutputError * filter3 * derivRelu(relu2X)\n",
        "  filter2 = filter2 += convHiddenError2 * np.transpose(relu1X)\n",
        "  convHiddenError1 = convHiddenError2 * filter2 * derivRelu(relu1X)\n",
        "  filter1 = filter1 += convHiddenError1 * np.transpose(input)\n",
        "  convoNetworkLayers(input, filter1, filter2, filter3)\n",
        "  \n",
        "  "
      ],
      "execution_count": 0,
      "outputs": []
    },
    {
      "cell_type": "code",
      "metadata": {
        "id": "Y887cWYl01xU",
        "colab_type": "code",
        "colab": {}
      },
      "source": [
        "# initiate training\n",
        "\n",
        "\n",
        "def startTraining():\n",
        "  for epoch in epochMax:\n",
        "    for i in dataset:\n",
        "      x, label = convoNetworkLayers(i) \n",
        "      updateweights(x, label, i)\n",
        "  print(\"training is completed\")\n",
        "    \n",
        "    \n",
        "  "
      ],
      "execution_count": 0,
      "outputs": []
    },
    {
      "cell_type": "code",
      "metadata": {
        "id": "rqFTmZ3TjoKF",
        "colab_type": "code",
        "colab": {}
      },
      "source": [
        "# testing \n",
        "def testing():\n",
        "  count = 0\n",
        "  for images in testingData:\n",
        "    t = convoNetworkLayers(images[1])\n",
        "    t = prelabels[argmax(t)]\n",
        "    images[0] == t :\n",
        "     count =+ 1\n",
        "  percentage = (count/12)/100\n",
        "  print(\"the training model is\" ,percentage , \" right \")\n",
        "  \n"
      ],
      "execution_count": 0,
      "outputs": []
    },
    {
      "cell_type": "code",
      "metadata": {
        "id": "ofy8rpBt3hTN",
        "colab_type": "code",
        "colab": {}
      },
      "source": [
        "# add image and predict if it is a weed or soybean\n",
        "\n",
        "def predict(x):\n",
        "  ogImg = cv2.imread(x,1)\n",
        "  cv2.imshow(ogimg)\n",
        "  image = cv2.imread(x,0)\n",
        "  image = cv2.resize(image, (size,size), interpolation = cv2.INTER_AREA)\n",
        "   t = prelabels[argmax(convoNetworkLayers(image))]\n",
        "  cv2.putText(ogImg, t)\n",
        "  cv2.imshow(ogImg)\n",
        "  "
      ],
      "execution_count": 0,
      "outputs": []
    }
  ]
}